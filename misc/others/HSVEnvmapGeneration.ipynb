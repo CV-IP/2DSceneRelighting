{
 "cells": [
  {
   "cell_type": "code",
   "execution_count": 16,
   "metadata": {},
   "outputs": [],
   "source": [
    "from utils.envmap import generate_envmap\n",
    "from torch import cat\n",
    "from kornia.color import hsv_to_rgb"
   ]
  },
  {
   "cell_type": "code",
   "execution_count": 17,
   "metadata": {},
   "outputs": [],
   "source": [
    "def normalize_image(light_latent, latent):\n",
    "    # See: https://discuss.pytorch.org/t/current-torch-min-does-not-support-multiple-dimensions/55577/2\n",
    "    if latent == 'scene-light':\n",
    "        envmap_hs, envmap_v = light_latent.split([2, 512], dim=1)\n",
    "        envmap_hsv = cat((envmap_hs.repeat_interleave(512, dim=1), envmap_v), dim=1).view(-1, 3, 16, 32)\n",
    "        return 255. * hsv_to_rgb(envmap_hsv)\n",
    "    elif latent == 'light':\n",
    "        # TODO: it should not be normalized across channels\n",
    "        envmap = light_latent.view(-1, 1536)\n",
    "        envmap_min = envmap.min(dim=1)[0].unsqueeze(1).expand(-1, 1536)\n",
    "        envmap_max = envmap.max(dim=1)[0].unsqueeze(1).expand(-1, 1536)\n",
    "        return ((envmap - envmap_min) / (envmap_max - envmap_min)).view(-1, 3, 16, 32)"
   ]
  },
  {
   "cell_type": "code",
   "execution_count": 20,
   "metadata": {},
   "outputs": [],
   "source": [
    "envmap_hsv = generate_envmap('N', 3500).unsqueeze(0)"
   ]
  },
  {
   "cell_type": "code",
   "execution_count": 22,
   "metadata": {},
   "outputs": [
    {
     "data": {
      "text/plain": [
       "tensor(241.3389)"
      ]
     },
     "execution_count": 22,
     "metadata": {},
     "output_type": "execute_result"
    }
   ],
   "source": [
    "normalize_image(envmap_hsv, 'scene-light').max()"
   ]
  }
 ],
 "metadata": {
  "kernelspec": {
   "display_name": "Python 3",
   "language": "python",
   "name": "python3"
  },
  "language_info": {
   "codemirror_mode": {
    "name": "ipython",
    "version": 3
   },
   "file_extension": ".py",
   "mimetype": "text/x-python",
   "name": "python",
   "nbconvert_exporter": "python",
   "pygments_lexer": "ipython3",
   "version": "3.7.7"
  }
 },
 "nbformat": 4,
 "nbformat_minor": 4
}

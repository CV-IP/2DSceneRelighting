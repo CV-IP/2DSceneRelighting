{
 "cells": [
  {
   "cell_type": "code",
   "execution_count": 1,
   "metadata": {},
   "outputs": [],
   "source": [
    "%load_ext autoreload\n",
    "%autoreload 2\n",
    "from torchvision import transforms\n",
    "import matplotlib.pyplot as plt\n",
    "from colour import CCT_to_xy, xy_to_XYZ, XYZ_to_RGB\n",
    "from colorsys import rgb_to_hsv\n",
    "from numpy import array"
   ]
  },
  {
   "cell_type": "code",
   "execution_count": 13,
   "metadata": {},
   "outputs": [],
   "source": [
    "# Inverse of RGB to XYZ matrix from lecture notes\n",
    "# XYZ_to_RGB_matrix = array([\n",
    "#     [2.36461, -0.896541, -0.468073],\n",
    "#     [-0.515166, 1.42641, 0.0887581],\n",
    "#     [0.0052037, -0.0144082, 1.0092]\n",
    "# ])\n",
    "\n",
    "# Matrix from colour documentation\n",
    "XYZ_to_RGB_matrix = array([\n",
    "    [3.24100326, -1.53739899, -0.49861587],\n",
    "    [-0.96922426, 1.87592999, 0.04155422],\n",
    "    [0.05563942, -0.20401120, 1.05714897]\n",
    "])\n",
    "\n",
    "def _light_temperature_to_rgb(cct):\n",
    "    xy = CCT_to_xy(cct)\n",
    "    xyz = xy_to_XYZ(xy)\n",
    "    rgb = XYZ_to_RGB(xyz, illuminant_XYZ=None, illuminant_RGB=None, \n",
    "                     XYZ_to_RGB_matrix=XYZ_to_RGB_matrix, chromatic_adaptation_transform=None)\n",
    "    h, s, v = rgb_to_hsv(*rgb)\n",
    "    return (255 * array([h, s, v])).clip(0, 255).astype(int)"
   ]
  },
  {
   "cell_type": "code",
   "execution_count": 14,
   "metadata": {},
   "outputs": [
    {
     "name": "stderr",
     "output_type": "stream",
     "text": [
      "/home/bzdeco/anaconda3/envs/relighting/lib/python3.7/site-packages/colour/utilities/verbose.py:235: ColourUsageWarning: Correlated colour temperature must be in domain [4000, 25000], unpredictable results may occur!\n",
      "  warn(*args, **kwargs)\n"
     ]
    }
   ],
   "source": [
    "temperatures = [2500, 3500, 4500, 5500, 6500]\n",
    "temp_dict = {}\n",
    "for temp in temperatures:\n",
    "    rgb = _light_temperature_to_rgb(temp)\n",
    "    temp_dict[temp] = rgb"
   ]
  },
  {
   "cell_type": "code",
   "execution_count": 15,
   "metadata": {
    "pycharm": {
     "name": "#%%\n"
    }
   },
   "outputs": [
    {
     "name": "stdout",
     "output_type": "stream",
     "text": [
      "{2500: array([ 14, 231, 255]), 3500: array([ 19, 192, 255]), 4500: array([ 22, 132, 255]), 5500: array([ 24,  65, 255]), 6500: array([ 54,   0, 255])}\n"
     ]
    }
   ],
   "source": [
    "print(temp_dict)"
   ]
  },
  {
   "cell_type": "code",
   "execution_count": 14,
   "metadata": {},
   "outputs": [],
   "source": [
    "from utils.envmap import generate_envmap"
   ]
  },
  {
   "cell_type": "code",
   "execution_count": 19,
   "metadata": {},
   "outputs": [
    {
     "data": {
      "text/plain": [
       "tensor([[[54., 54., 54.,  ..., 54., 54., 54.],\n",
       "         [54., 54., 54.,  ..., 54., 54., 54.],\n",
       "         [54., 54., 54.,  ..., 54., 54., 54.],\n",
       "         ...,\n",
       "         [54., 54., 54.,  ..., 54., 54., 54.],\n",
       "         [54., 54., 54.,  ..., 54., 54., 54.],\n",
       "         [54., 54., 54.,  ..., 54., 54., 54.]],\n",
       "\n",
       "        [[ 0.,  0.,  0.,  ...,  0.,  0.,  0.],\n",
       "         [ 0.,  0.,  0.,  ...,  0.,  0.,  0.],\n",
       "         [ 0.,  0.,  0.,  ...,  0.,  0.,  0.],\n",
       "         ...,\n",
       "         [ 0.,  0.,  0.,  ...,  0.,  0.,  0.],\n",
       "         [ 0.,  0.,  0.,  ...,  0.,  0.,  0.],\n",
       "         [ 0.,  0.,  0.,  ...,  0.,  0.,  0.]],\n",
       "\n",
       "        [[ 7.,  9., 10.,  ..., 12., 10.,  9.],\n",
       "         [ 8., 10., 11.,  ..., 14., 11., 10.],\n",
       "         [ 9., 10., 13.,  ..., 15., 13., 10.],\n",
       "         ...,\n",
       "         [ 9., 11., 13.,  ..., 16., 13., 11.],\n",
       "         [ 9., 10., 13.,  ..., 15., 13., 10.],\n",
       "         [ 8., 10., 11.,  ..., 14., 11., 10.]]])"
      ]
     },
     "execution_count": 19,
     "metadata": {},
     "output_type": "execute_result"
    }
   ],
   "source": [
    "generate_envmap('N', 6500, mode='hsv').view(3, 16, 32)"
   ]
  },
  {
   "cell_type": "code",
   "execution_count": 10,
   "metadata": {},
   "outputs": [
    {
     "name": "stderr",
     "output_type": "stream",
     "text": [
      "Clipping input data to the valid range for imshow with RGB data ([0..1] for floats or [0..255] for integers).\n"
     ]
    },
    {
     "data": {
      "text/plain": [
       "<matplotlib.image.AxesImage at 0x7f97f4d15450>"
      ]
     },
     "execution_count": 10,
     "metadata": {},
     "output_type": "execute_result"
    },
    {
     "data": {
      "image/png": "[encoded data removed]",
      "text/plain": [
       "<Figure size 432x288 with 1 Axes>"
      ]
     },
     "metadata": {
      "needs_background": "light"
     },
     "output_type": "display_data"
    }
   ],
   "source": []
  },
  {
   "cell_type": "code",
   "execution_count": null,
   "metadata": {},
   "outputs": [],
   "source": []
  }
 ],
 "metadata": {
  "kernelspec": {
   "display_name": "Python 3",
   "language": "python",
   "name": "python3"
  },
  "language_info": {
   "codemirror_mode": {
    "name": "ipython",
    "version": 3
   },
   "file_extension": ".py",
   "mimetype": "text/x-python",
   "name": "python",
   "nbconvert_exporter": "python",
   "pygments_lexer": "ipython3",
   "version": "3.7.7"
  }
 },
 "nbformat": 4,
 "nbformat_minor": 1
}

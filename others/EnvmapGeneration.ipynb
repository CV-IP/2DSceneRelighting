{
 "cells": [
  {
   "cell_type": "code",
   "execution_count": 1,
   "metadata": {},
   "outputs": [],
   "source": [
    "%load_ext autoreload\n",
    "%autoreload 2\n",
    "from torchvision import transforms\n",
    "import matplotlib.pyplot as plt\n",
    "from colour import CCT_to_xy, xy_to_XYZ, XYZ_to_RGB\n",
    "from numpy import array"
   ]
  },
  {
   "cell_type": "code",
   "execution_count": 13,
   "metadata": {},
   "outputs": [],
   "source": [
    "# Inverse of RGB to XYZ matrix from lecture notes\n",
    "# XYZ_to_RGB_matrix = array([\n",
    "#     [2.36461, -0.896541, -0.468073],\n",
    "#     [-0.515166, 1.42641, 0.0887581],\n",
    "#     [0.0052037, -0.0144082, 1.0092]\n",
    "# ])\n",
    "\n",
    "# Matrix from colour documentation\n",
    "XYZ_to_RGB_matrix = array([\n",
    "    [3.24100326, -1.53739899, -0.49861587],\n",
    "    [-0.96922426, 1.87592999, 0.04155422],\n",
    "    [0.05563942, -0.20401120, 1.05714897]\n",
    "])\n",
    "\n",
    "def _light_temperature_to_rgb(cct):\n",
    "    xy = CCT_to_xy(cct)\n",
    "    xyz = xy_to_XYZ(xy)\n",
    "    rgb = XYZ_to_RGB(xyz, illuminant_XYZ=None, illuminant_RGB=None, \n",
    "                     XYZ_to_RGB_matrix=XYZ_to_RGB_matrix, chromatic_adaptation_transform=None)\n",
    "    return (255 * rgb).clip(0, 255).astype(int)"
   ]
  },
  {
   "cell_type": "code",
   "execution_count": 14,
   "metadata": {},
   "outputs": [],
   "source": [
    "temperatures = [2500, 3500, 4500, 5500, 6500]\n",
    "temp_dict = {}\n",
    "for temp in temperatures:\n",
    "    rgb = _light_temperature_to_rgb(temp)\n",
    "    temp_dict[temp] = rgb"
   ]
  },
  {
   "cell_type": "code",
   "execution_count": 15,
   "metadata": {
    "pycharm": {
     "name": "#%%\n"
    }
   },
   "outputs": [
    {
     "name": "stdout",
     "output_type": "stream",
     "text": [
      "{2500: array([255, 202,  46]), 3500: array([255, 229,  96]), 4500: array([255, 244, 155]), 5500: array([255, 251, 209]), 6500: array([254, 255, 254])}\n"
     ]
    }
   ],
   "source": [
    "print(temp_dict)"
   ]
  },
  {
   "cell_type": "code",
   "execution_count": null,
   "metadata": {},
   "outputs": [],
   "source": []
  }
 ],
 "metadata": {
  "kernelspec": {
   "display_name": "Python 3",
   "language": "python",
   "name": "python3"
  },
  "language_info": {
   "codemirror_mode": {
    "name": "ipython",
    "version": 3
   },
   "file_extension": ".py",
   "mimetype": "text/x-python",
   "name": "python",
   "nbconvert_exporter": "python",
   "pygments_lexer": "ipython3",
   "version": "3.7.7"
  }
 },
 "nbformat": 4,
 "nbformat_minor": 1
}
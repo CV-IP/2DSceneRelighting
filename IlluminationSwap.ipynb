{
 "cells": [
  {
   "cell_type": "markdown",
   "metadata": {},
   "source": [
    "Model based on \"Single Image Portrait Relighting\" whose aim is to produce same scenes as given with illumination conditions (color/light direction) swapped between 2 given inputs."
   ]
  },
  {
   "cell_type": "code",
   "execution_count": 1,
   "metadata": {},
   "outputs": [],
   "source": [
    "import torch\n",
    "import torch.nn as nn"
   ]
  },
  {
   "cell_type": "markdown",
   "metadata": {},
   "source": [
    "# Model building blocks"
   ]
  },
  {
   "cell_type": "code",
   "execution_count": 3,
   "metadata": {},
   "outputs": [],
   "source": [
    "class DoubleConv(nn.Module):\n",
    "    def __init__(self, in_channels, out_channels, channels_per_group=16):\n",
    "        super(DoubleConv, self).__init__()\n",
    "        self.double_conv = nn.Sequential(\n",
    "            nn.Conv2d(in_channels, in_channels, 3, padding=1),\n",
    "            nn.GroupNorm(in_channels // channels_per_group, in_channels),\n",
    "            nn.PReLU(),\n",
    "            nn.Conv2d(in_channels, out_channels, stride=2, padding=1),\n",
    "            nn.GroupNorm(out_channels // channels_per_group, out_channels),\n",
    "            nn.PReLU()\n",
    "        )\n",
    "    \n",
    "    def forward(self, x):\n",
    "        return self.double_conv(x)"
   ]
  },
  {
   "cell_type": "code",
   "execution_count": 4,
   "metadata": {},
   "outputs": [],
   "source": [
    "class BottleneckConv(nn.Module):\n",
    "    def __init__(self, in_channels, channels_per_group=16, envmap_H=16, envmap_W=32, depth=4):\n",
    "        expected_channels = envmap_H * envmap_W\n",
    "        assert in_channels == expected_channels, f'Bottleneck input has {in_channels} channels, expected {expected_channels}'\n",
    "        super(BottleneckConv, self).__init__()\n",
    "        self.convolutions = self._build_bottleneck_convolutions(in_channels, channels_per_group, depth)\n",
    "    \n",
    "    def _build_bottleneck_convolutions(self, in_channels, channels_per_group, depth):\n",
    "        single_conv = [\n",
    "            nn.Conv2d(in_channels, in_channels, 3, padding=1),\n",
    "            nn.GroupNorm(in_channels // channels_per_group, in_channels),\n",
    "            nn.PReLU()\n",
    "        ]\n",
    "        convolutions = single_conv * (depth - 1)\n",
    "        # final layer before weighted pooling\n",
    "        out_channels = 4*in_channels\n",
    "        convolutions += [\n",
    "            nn.Conv2d(in_channels, out_channels, 3, padding=1),\n",
    "            nn.GroupNorm(out_channels // channels_per_group, out_channels),\n",
    "            nn.Softplus()\n",
    "        ]\n",
    "        return nn.ModuleList(convolutions)\n",
    "    \n",
    "    def forward(self, x):\n",
    "        for module in self.convolutions:\n",
    "            x = module(x)\n",
    "        # split x into environment map predictions and confidence\n",
    "        channels = x.size()[1]\n",
    "        split_point = 3 * (channels // 4)\n",
    "        envmap_predictions, confidence = x[:, :split_point], x[:, split_point:]\n",
    "        return envmap_predictions, confidence"
   ]
  },
  {
   "cell_type": "code",
   "execution_count": null,
   "metadata": {},
   "outputs": [],
   "source": [
    "class WeightedPooling(nn.Module):"
   ]
  }
 ],
 "metadata": {
  "kernelspec": {
   "display_name": "Python 3",
   "language": "python",
   "name": "python3"
  },
  "language_info": {
   "codemirror_mode": {
    "name": "ipython",
    "version": 3
   },
   "file_extension": ".py",
   "mimetype": "text/x-python",
   "name": "python",
   "nbconvert_exporter": "python",
   "pygments_lexer": "ipython3",
   "version": "3.7.6"
  }
 },
 "nbformat": 4,
 "nbformat_minor": 4
}
